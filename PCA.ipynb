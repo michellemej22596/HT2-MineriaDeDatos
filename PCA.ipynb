{
 "cells": [
  {
   "cell_type": "code",
   "execution_count": 2,
   "metadata": {},
   "outputs": [],
   "source": [
    "import pandas as pd\n",
    "from sklearn.preprocessing import StandardScaler\n",
    "import numpy as np\n",
    "from sklearn.decomposition import PCA\n",
    "from factor_analyzer.factor_analyzer import calculate_bartlett_sphericity\n",
    "from factor_analyzer.factor_analyzer import calculate_kmo\n",
    "import matplotlib.pyplot as plt\n",
    "from sklearn.pipeline import make_pipeline"
   ]
  },
  {
   "cell_type": "code",
   "execution_count": 3,
   "metadata": {},
   "outputs": [
    {
     "name": "stdout",
     "output_type": "stream",
     "text": [
      "   id    budget                            genres  \\\n",
      "0   5   4000000                      Crime|Comedy   \n",
      "1   6  21000000             Action|Thriller|Crime   \n",
      "2  11  11000000  Adventure|Action|Science Fiction   \n",
      "3  12  94000000                  Animation|Family   \n",
      "4  13  55000000              Comedy|Drama|Romance   \n",
      "\n",
      "                                            homePage  \\\n",
      "0          https://www.miramax.com/movie/four-rooms/   \n",
      "1                                                NaN   \n",
      "2  http://www.starwars.com/films/star-wars-episod...   \n",
      "3              http://movies.disney.com/finding-nemo   \n",
      "4                                                NaN   \n",
      "\n",
      "                            productionCompany productionCompanyCountry  \\\n",
      "0                        Miramax|A Band Apart                    US|US   \n",
      "1  Universal Pictures|Largo Entertainment|JVC                 US|US|JP   \n",
      "2                  Lucasfilm|20th Century Fox                    US|US   \n",
      "3                                       Pixar                       US   \n",
      "4           Paramount|The Steve Tisch Company                      US|   \n",
      "\n",
      "                productionCountry      revenue  runtime  video  ...  \\\n",
      "0        United States of America    4257354.0       98  False  ...   \n",
      "1  Japan|United States of America   12136938.0      110  False  ...   \n",
      "2        United States of America  775398007.0      121    NaN  ...   \n",
      "3        United States of America  940335536.0      100    NaN  ...   \n",
      "4        United States of America  677387716.0      142  False  ...   \n",
      "\n",
      "  popularity releaseDate voteAvg voteCount genresAmount productionCoAmount  \\\n",
      "0     20.880  1995-12-09     5.7      2077            2                  2   \n",
      "1      9.596  1993-10-15     6.5       223            3                  3   \n",
      "2    100.003  1977-05-25     8.2     16598            3                  2   \n",
      "3    134.435  2003-05-30     7.8     15928            2                  1   \n",
      "4     58.751  1994-07-06     8.5     22045            3                  2   \n",
      "\n",
      "  productionCountriesAmount  actorsAmount castWomenAmount  castMenAmount  \n",
      "0                         1            25              15              9  \n",
      "1                         2            15               3              9  \n",
      "2                         1           105               5             62  \n",
      "3                         1            24               5             18  \n",
      "4                         1            76              18             48  \n",
      "\n",
      "[5 rows x 27 columns]\n",
      "(10000, 27)\n"
     ]
    }
   ],
   "source": [
    "ejemplo = pd.read_csv('movies.csv', encoding = \"ISO-8859-1\")\n",
    "print(ejemplo.head())\n",
    "print(ejemplo.shape)"
   ]
  },
  {
   "cell_type": "code",
   "execution_count": 4,
   "metadata": {},
   "outputs": [
    {
     "data": {
      "text/html": [
       "<div>\n",
       "<style scoped>\n",
       "    .dataframe tbody tr th:only-of-type {\n",
       "        vertical-align: middle;\n",
       "    }\n",
       "\n",
       "    .dataframe tbody tr th {\n",
       "        vertical-align: top;\n",
       "    }\n",
       "\n",
       "    .dataframe thead th {\n",
       "        text-align: right;\n",
       "    }\n",
       "</style>\n",
       "<table border=\"1\" class=\"dataframe\">\n",
       "  <thead>\n",
       "    <tr style=\"text-align: right;\">\n",
       "      <th></th>\n",
       "      <th>budget</th>\n",
       "      <th>genres</th>\n",
       "      <th>homePage</th>\n",
       "      <th>productionCompany</th>\n",
       "      <th>productionCompanyCountry</th>\n",
       "      <th>productionCountry</th>\n",
       "      <th>revenue</th>\n",
       "      <th>runtime</th>\n",
       "      <th>video</th>\n",
       "      <th>director</th>\n",
       "      <th>...</th>\n",
       "      <th>popularity</th>\n",
       "      <th>releaseDate</th>\n",
       "      <th>voteAvg</th>\n",
       "      <th>voteCount</th>\n",
       "      <th>genresAmount</th>\n",
       "      <th>productionCoAmount</th>\n",
       "      <th>productionCountriesAmount</th>\n",
       "      <th>actorsAmount</th>\n",
       "      <th>castWomenAmount</th>\n",
       "      <th>castMenAmount</th>\n",
       "    </tr>\n",
       "  </thead>\n",
       "  <tbody>\n",
       "    <tr>\n",
       "      <th>0</th>\n",
       "      <td>4000000</td>\n",
       "      <td>Crime|Comedy</td>\n",
       "      <td>https://www.miramax.com/movie/four-rooms/</td>\n",
       "      <td>Miramax|A Band Apart</td>\n",
       "      <td>US|US</td>\n",
       "      <td>United States of America</td>\n",
       "      <td>4257354.0</td>\n",
       "      <td>98</td>\n",
       "      <td>False</td>\n",
       "      <td>Allison Anders|Alexandre Rockwell|Robert Rodri...</td>\n",
       "      <td>...</td>\n",
       "      <td>20.880</td>\n",
       "      <td>1995-12-09</td>\n",
       "      <td>5.7</td>\n",
       "      <td>2077</td>\n",
       "      <td>2</td>\n",
       "      <td>2</td>\n",
       "      <td>1</td>\n",
       "      <td>25</td>\n",
       "      <td>15</td>\n",
       "      <td>9</td>\n",
       "    </tr>\n",
       "    <tr>\n",
       "      <th>1</th>\n",
       "      <td>21000000</td>\n",
       "      <td>Action|Thriller|Crime</td>\n",
       "      <td>NaN</td>\n",
       "      <td>Universal Pictures|Largo Entertainment|JVC</td>\n",
       "      <td>US|US|JP</td>\n",
       "      <td>Japan|United States of America</td>\n",
       "      <td>12136938.0</td>\n",
       "      <td>110</td>\n",
       "      <td>False</td>\n",
       "      <td>Stephen Hopkins</td>\n",
       "      <td>...</td>\n",
       "      <td>9.596</td>\n",
       "      <td>1993-10-15</td>\n",
       "      <td>6.5</td>\n",
       "      <td>223</td>\n",
       "      <td>3</td>\n",
       "      <td>3</td>\n",
       "      <td>2</td>\n",
       "      <td>15</td>\n",
       "      <td>3</td>\n",
       "      <td>9</td>\n",
       "    </tr>\n",
       "    <tr>\n",
       "      <th>2</th>\n",
       "      <td>11000000</td>\n",
       "      <td>Adventure|Action|Science Fiction</td>\n",
       "      <td>http://www.starwars.com/films/star-wars-episod...</td>\n",
       "      <td>Lucasfilm|20th Century Fox</td>\n",
       "      <td>US|US</td>\n",
       "      <td>United States of America</td>\n",
       "      <td>775398007.0</td>\n",
       "      <td>121</td>\n",
       "      <td>NaN</td>\n",
       "      <td>George Lucas</td>\n",
       "      <td>...</td>\n",
       "      <td>100.003</td>\n",
       "      <td>1977-05-25</td>\n",
       "      <td>8.2</td>\n",
       "      <td>16598</td>\n",
       "      <td>3</td>\n",
       "      <td>2</td>\n",
       "      <td>1</td>\n",
       "      <td>105</td>\n",
       "      <td>5</td>\n",
       "      <td>62</td>\n",
       "    </tr>\n",
       "    <tr>\n",
       "      <th>3</th>\n",
       "      <td>94000000</td>\n",
       "      <td>Animation|Family</td>\n",
       "      <td>http://movies.disney.com/finding-nemo</td>\n",
       "      <td>Pixar</td>\n",
       "      <td>US</td>\n",
       "      <td>United States of America</td>\n",
       "      <td>940335536.0</td>\n",
       "      <td>100</td>\n",
       "      <td>NaN</td>\n",
       "      <td>Andrew Stanton</td>\n",
       "      <td>...</td>\n",
       "      <td>134.435</td>\n",
       "      <td>2003-05-30</td>\n",
       "      <td>7.8</td>\n",
       "      <td>15928</td>\n",
       "      <td>2</td>\n",
       "      <td>1</td>\n",
       "      <td>1</td>\n",
       "      <td>24</td>\n",
       "      <td>5</td>\n",
       "      <td>18</td>\n",
       "    </tr>\n",
       "    <tr>\n",
       "      <th>4</th>\n",
       "      <td>55000000</td>\n",
       "      <td>Comedy|Drama|Romance</td>\n",
       "      <td>NaN</td>\n",
       "      <td>Paramount|The Steve Tisch Company</td>\n",
       "      <td>US|</td>\n",
       "      <td>United States of America</td>\n",
       "      <td>677387716.0</td>\n",
       "      <td>142</td>\n",
       "      <td>False</td>\n",
       "      <td>Robert Zemeckis</td>\n",
       "      <td>...</td>\n",
       "      <td>58.751</td>\n",
       "      <td>1994-07-06</td>\n",
       "      <td>8.5</td>\n",
       "      <td>22045</td>\n",
       "      <td>3</td>\n",
       "      <td>2</td>\n",
       "      <td>1</td>\n",
       "      <td>76</td>\n",
       "      <td>18</td>\n",
       "      <td>48</td>\n",
       "    </tr>\n",
       "  </tbody>\n",
       "</table>\n",
       "<p>5 rows × 26 columns</p>\n",
       "</div>"
      ],
      "text/plain": [
       "     budget                            genres  \\\n",
       "0   4000000                      Crime|Comedy   \n",
       "1  21000000             Action|Thriller|Crime   \n",
       "2  11000000  Adventure|Action|Science Fiction   \n",
       "3  94000000                  Animation|Family   \n",
       "4  55000000              Comedy|Drama|Romance   \n",
       "\n",
       "                                            homePage  \\\n",
       "0          https://www.miramax.com/movie/four-rooms/   \n",
       "1                                                NaN   \n",
       "2  http://www.starwars.com/films/star-wars-episod...   \n",
       "3              http://movies.disney.com/finding-nemo   \n",
       "4                                                NaN   \n",
       "\n",
       "                            productionCompany productionCompanyCountry  \\\n",
       "0                        Miramax|A Band Apart                    US|US   \n",
       "1  Universal Pictures|Largo Entertainment|JVC                 US|US|JP   \n",
       "2                  Lucasfilm|20th Century Fox                    US|US   \n",
       "3                                       Pixar                       US   \n",
       "4           Paramount|The Steve Tisch Company                      US|   \n",
       "\n",
       "                productionCountry      revenue  runtime  video  \\\n",
       "0        United States of America    4257354.0       98  False   \n",
       "1  Japan|United States of America   12136938.0      110  False   \n",
       "2        United States of America  775398007.0      121    NaN   \n",
       "3        United States of America  940335536.0      100    NaN   \n",
       "4        United States of America  677387716.0      142  False   \n",
       "\n",
       "                                            director  ... popularity  \\\n",
       "0  Allison Anders|Alexandre Rockwell|Robert Rodri...  ...     20.880   \n",
       "1                                    Stephen Hopkins  ...      9.596   \n",
       "2                                       George Lucas  ...    100.003   \n",
       "3                                     Andrew Stanton  ...    134.435   \n",
       "4                                    Robert Zemeckis  ...     58.751   \n",
       "\n",
       "  releaseDate voteAvg voteCount genresAmount productionCoAmount  \\\n",
       "0  1995-12-09     5.7      2077            2                  2   \n",
       "1  1993-10-15     6.5       223            3                  3   \n",
       "2  1977-05-25     8.2     16598            3                  2   \n",
       "3  2003-05-30     7.8     15928            2                  1   \n",
       "4  1994-07-06     8.5     22045            3                  2   \n",
       "\n",
       "   productionCountriesAmount actorsAmount  castWomenAmount  castMenAmount  \n",
       "0                          1           25               15              9  \n",
       "1                          2           15                3              9  \n",
       "2                          1          105                5             62  \n",
       "3                          1           24                5             18  \n",
       "4                          1           76               18             48  \n",
       "\n",
       "[5 rows x 26 columns]"
      ]
     },
     "execution_count": 4,
     "metadata": {},
     "output_type": "execute_result"
    }
   ],
   "source": [
    "ejemplo_num = ejemplo.iloc[:,1:]\n",
    "ejemplo_num.head()"
   ]
  },
  {
   "cell_type": "code",
   "execution_count": 6,
   "metadata": {},
   "outputs": [
    {
     "name": "stdout",
     "output_type": "stream",
     "text": [
      "Valor Chi-cuadrado: 22861.174472130755\n",
      "Valor p: 0.0\n"
     ]
    }
   ],
   "source": [
    "import pandas as pd\n",
    "import numpy as np\n",
    "from factor_analyzer.factor_analyzer import calculate_bartlett_sphericity\n",
    "\n",
    "# Filtrar solo las columnas numéricas\n",
    "ejemplo_num = ejemplo.select_dtypes(include=[np.number])\n",
    "\n",
    "# Revisar si hay valores NaN\n",
    "if ejemplo_num.isnull().sum().sum() > 0:\n",
    "    print(\"El dataset tiene valores NaN, se llenarán con la media de cada columna.\")\n",
    "    ejemplo_num = ejemplo_num.fillna(ejemplo_num.mean())\n",
    "\n",
    "# Ahora sí ejecutar la prueba de Bartlett\n",
    "chi_cuadrado, p_valor = calculate_bartlett_sphericity(ejemplo_num)\n",
    "\n",
    "# Mostrar resultados\n",
    "print(f'Valor Chi-cuadrado: {chi_cuadrado}')\n",
    "print(f'Valor p: {p_valor}')"
   ]
  },
  {
   "cell_type": "code",
   "execution_count": 7,
   "metadata": {},
   "outputs": [
    {
     "name": "stdout",
     "output_type": "stream",
     "text": [
      "Índice KMO: 0.7131226161072535\n"
     ]
    }
   ],
   "source": [
    "kmo,kmo_modelo = calculate_kmo(ejemplo_num)\n",
    "print(f'Índice KMO: {kmo_modelo}')"
   ]
  },
  {
   "cell_type": "code",
   "execution_count": 11,
   "metadata": {},
   "outputs": [
    {
     "name": "stdout",
     "output_type": "stream",
     "text": [
      "Cantidad de Componentes Generados: 11\n",
      "Resultado del PCA:\n",
      "           id    budget   revenue   runtime  popularity   voteAvg  voteCount  \\\n",
      "PC1 -0.225102  0.501921  0.519759  0.285925    0.119149  0.172720   0.508017   \n",
      "PC2  0.538927  0.102307  0.197044 -0.298472    0.557324  0.017949   0.112183   \n",
      "PC3  0.327944 -0.132510 -0.092215  0.382328    0.240977  0.394636  -0.006707   \n",
      "PC4 -0.034531 -0.228901 -0.118449  0.183264   -0.020290  0.717354   0.017973   \n",
      "PC5  0.085539 -0.043718 -0.161717 -0.067952    0.367096  0.079233  -0.175792   \n",
      "\n",
      "     genresAmount  productionCoAmount  productionCountriesAmount  actorsAmount  \n",
      "PC1      0.160785            0.115109                  -0.041302     -0.050841  \n",
      "PC2     -0.142039           -0.277156                  -0.020352      0.387630  \n",
      "PC3     -0.327441            0.363503                   0.434436     -0.279779  \n",
      "PC4      0.067058           -0.379278                  -0.484050      0.028472  \n",
      "PC5      0.741038            0.467387                  -0.137260      0.040415  \n"
     ]
    }
   ],
   "source": [
    "import pandas as pd\n",
    "from sklearn.preprocessing import StandardScaler\n",
    "from sklearn.decomposition import PCA\n",
    "from sklearn.pipeline import make_pipeline\n",
    "\n",
    "# Asegurar que solo se usan variables numéricas\n",
    "ejemplo_num = ejemplo.select_dtypes(include=['number'])\n",
    "\n",
    "# Escalar datos y aplicar PCA\n",
    "pca_pipe = make_pipeline(StandardScaler(), PCA())\n",
    "pca_pipe.fit(ejemplo_num)\n",
    "\n",
    "# Extraer el modelo PCA\n",
    "modelo_pca = pca_pipe.named_steps['pca']\n",
    "print(f'Cantidad de Componentes Generados: {modelo_pca.n_components_}')\n",
    "\n",
    "# Convertir los componentes en un DataFrame con nombres dinámicos\n",
    "pca_resultado = pd.DataFrame(\n",
    "    data=modelo_pca.components_,\n",
    "    columns=ejemplo_num.columns,\n",
    "    index=[f'PC{i+1}' for i in range(modelo_pca.n_components_)]\n",
    ")\n",
    "\n",
    "print(\"Resultado del PCA:\")\n",
    "print(pca_resultado.head())\n"
   ]
  },
  {
   "cell_type": "code",
   "execution_count": 12,
   "metadata": {},
   "outputs": [
    {
     "data": {
      "image/png": "[encoded data removed]",
      "text/plain": [
       "<Figure size 640x480 with 2 Axes>"
      ]
     },
     "metadata": {},
     "output_type": "display_data"
    }
   ],
   "source": [
    "fig, ax = plt.subplots(nrows=1, ncols=1)\n",
    "componentes = modelo_pca.components_\n",
    "plt.imshow(componentes.T)\n",
    "plt.yticks(range(len(ejemplo_num.columns)), ejemplo_num.columns)\n",
    "plt.xticks(range(len(ejemplo_num.columns)), np.arange(modelo_pca.n_components_)+1)\n",
    "plt.grid(False)\n",
    "plt.colorbar();"
   ]
  },
  {
   "cell_type": "code",
   "execution_count": 13,
   "metadata": {},
   "outputs": [
    {
     "name": "stdout",
     "output_type": "stream",
     "text": [
      "----------------------------------------------------\n",
      "Porcentaje de varianza explicada por cada componente\n",
      "----------------------------------------------------\n",
      "[0.25862531 0.10883742 0.1023966  0.09441796 0.08942156 0.08833715\n",
      " 0.08388519 0.06992045 0.05858046 0.02891549 0.01666242]\n"
     ]
    }
   ],
   "source": [
    "print('----------------------------------------------------')\n",
    "print('Porcentaje de varianza explicada por cada componente')\n",
    "print('----------------------------------------------------')\n",
    "print(modelo_pca.explained_variance_ratio_)"
   ]
  },
  {
   "cell_type": "code",
   "execution_count": 14,
   "metadata": {},
   "outputs": [
    {
     "data": {
      "image/png": "[encoded data removed]",
      "text/plain": [
       "<Figure size 600x400 with 1 Axes>"
      ]
     },
     "metadata": {},
     "output_type": "display_data"
    }
   ],
   "source": [
    "fig, ax = plt.subplots(nrows=1, ncols=1, figsize=(6, 4))\n",
    "ax.bar(\n",
    "    x      = np.arange(modelo_pca.n_components_) + 1,\n",
    "    height = modelo_pca.explained_variance_ratio_\n",
    ")\n",
    "\n",
    "for x, y in zip(np.arange(len(ejemplo_num.columns)) + 1, modelo_pca.explained_variance_ratio_):\n",
    "    label = round(y, 2)\n",
    "    ax.annotate(\n",
    "        label,\n",
    "        (x,y),\n",
    "        textcoords=\"offset points\",\n",
    "        xytext=(0,10),\n",
    "        ha='center'\n",
    "    )\n",
    "\n",
    "ax.set_xticks(np.arange(modelo_pca.n_components_) + 1)\n",
    "ax.set_ylim(0, 1.1)\n",
    "ax.set_title('Porcentaje de varianza explicada por cada componente')\n",
    "ax.set_xlabel('Componente principal')\n",
    "ax.set_ylabel('Por. varianza explicada');"
   ]
  },
  {
   "cell_type": "code",
   "execution_count": 15,
   "metadata": {},
   "outputs": [
    {
     "name": "stdout",
     "output_type": "stream",
     "text": [
      "------------------------------------------\n",
      "Porcentaje de varianza explicada acumulada\n",
      "------------------------------------------\n",
      "[0.25862531 0.36746273 0.46985933 0.56427729 0.65369884 0.74203599\n",
      " 0.82592118 0.89584163 0.95442209 0.98333758 1.        ]\n"
     ]
    },
    {
     "data": {
      "image/png": "[encoded data removed]",
      "text/plain": [
       "<Figure size 600x400 with 1 Axes>"
      ]
     },
     "metadata": {},
     "output_type": "display_data"
    }
   ],
   "source": [
    "# Porcentaje de varianza explicada acumulada\n",
    "# ==============================================================================\n",
    "prop_varianza_acum = modelo_pca.explained_variance_ratio_.cumsum()\n",
    "print('------------------------------------------')\n",
    "print('Porcentaje de varianza explicada acumulada')\n",
    "print('------------------------------------------')\n",
    "print(prop_varianza_acum)\n",
    "\n",
    "fig, ax = plt.subplots(nrows=1, ncols=1, figsize=(6, 4))\n",
    "ax.plot(\n",
    "    np.arange(len(ejemplo_num.columns)) + 1,\n",
    "    prop_varianza_acum,\n",
    "    marker = 'o'\n",
    ")\n",
    "\n",
    "for x, y in zip(np.arange(len(ejemplo_num.columns)) + 1, prop_varianza_acum):\n",
    "    label = round(y, 2)\n",
    "    ax.annotate(\n",
    "        label,\n",
    "        (x,y),\n",
    "        textcoords=\"offset points\",\n",
    "        xytext=(0,10),\n",
    "        ha='center'\n",
    "    )\n",
    "    \n",
    "ax.set_ylim(0, 1.1)\n",
    "ax.set_xticks(np.arange(modelo_pca.n_components_) + 1)\n",
    "ax.set_title('Porcentaje de varianza explicada acumulada')\n",
    "ax.set_xlabel('Componente principal')\n",
    "ax.set_ylabel('Por. varianza acumulada');"
   ]
  },
  {
   "cell_type": "code",
   "execution_count": 16,
   "metadata": {},
   "outputs": [
    {
     "name": "stdout",
     "output_type": "stream",
     "text": [
      "Componente 1:\n",
      "  id: -0.225\n",
      "  budget: 0.502\n",
      "  revenue: 0.520\n",
      "  runtime: 0.286\n",
      "  popularity: 0.119\n",
      "  voteAvg: 0.173\n",
      "  voteCount: 0.508\n",
      "  genresAmount: 0.161\n",
      "  productionCoAmount: 0.115\n",
      "  productionCountriesAmount: -0.041\n",
      "  actorsAmount: -0.051\n",
      "---\n",
      "Componente 2:\n",
      "  id: 0.539\n",
      "  budget: 0.102\n",
      "  revenue: 0.197\n",
      "  runtime: -0.298\n",
      "  popularity: 0.557\n",
      "  voteAvg: 0.018\n",
      "  voteCount: 0.112\n",
      "  genresAmount: -0.142\n",
      "  productionCoAmount: -0.277\n",
      "  productionCountriesAmount: -0.020\n",
      "  actorsAmount: 0.388\n",
      "---\n",
      "Componente 3:\n",
      "  id: 0.328\n",
      "  budget: -0.133\n",
      "  revenue: -0.092\n",
      "  runtime: 0.382\n",
      "  popularity: 0.241\n",
      "  voteAvg: 0.395\n",
      "  voteCount: -0.007\n",
      "  genresAmount: -0.327\n",
      "  productionCoAmount: 0.364\n",
      "  productionCountriesAmount: 0.434\n",
      "  actorsAmount: -0.280\n",
      "---\n",
      "Componente 4:\n",
      "  id: -0.035\n",
      "  budget: -0.229\n",
      "  revenue: -0.118\n",
      "  runtime: 0.183\n",
      "  popularity: -0.020\n",
      "  voteAvg: 0.717\n",
      "  voteCount: 0.018\n",
      "  genresAmount: 0.067\n",
      "  productionCoAmount: -0.379\n",
      "  productionCountriesAmount: -0.484\n",
      "  actorsAmount: 0.028\n",
      "---\n"
     ]
    }
   ],
   "source": [
    "# Mostrar las cargas de los primeros 4 componentes\n",
    "cargas = modelo_pca.components_[:4]\n",
    "\n",
    "# Imprimir las cargas para interpretación\n",
    "for i, carga in enumerate(cargas):\n",
    "    print(f'Componente {i+1}:')\n",
    "    for j, variable in enumerate(ejemplo_num.columns):\n",
    "        print(f'  {variable}: {carga[j]:.3f}')\n",
    "    print('---')"
   ]
  },
  {
   "cell_type": "code",
   "execution_count": 17,
   "metadata": {},
   "outputs": [
    {
     "name": "stdout",
     "output_type": "stream",
     "text": [
      "[[ 4.22156611e+06  1.24834203e+06 -9.22604441e+05 ...  5.85775595e+05\n",
      "   2.67718430e+06  1.70478633e+06]\n",
      " [ 1.68487661e+07  4.53996343e+06 -3.90187031e+06 ...  2.70495703e+06\n",
      "   1.43313378e+07  9.64291647e+05]\n",
      " [ 4.08549663e+08  1.53915189e+08 -7.29606553e+07 ...  2.93620421e+07\n",
      "  -1.27680555e+07  6.02135241e+08]\n",
      " ...\n",
      " [-2.07432526e+05  4.97184937e+05  3.02558583e+05 ...  5.26581286e+05\n",
      "  -8.13914425e+02 -4.99152845e+04]\n",
      " [-2.07560678e+05  4.96966012e+05  3.02444575e+05 ...  5.26785542e+05\n",
      "  -7.52181522e+02 -4.99052500e+04]\n",
      " [ 5.19667279e+04  5.73129380e+05  2.45378394e+05 ...  5.63407744e+05\n",
      "   1.69801562e+05  4.56262603e+04]]\n"
     ]
    },
    {
     "name": "stderr",
     "output_type": "stream",
     "text": [
      "c:\\Users\\Lenovo\\AppData\\Local\\Programs\\Python\\Python313\\Lib\\site-packages\\sklearn\\utils\\validation.py:2732: UserWarning: X has feature names, but PCA was fitted without feature names\n",
      "  warnings.warn(\n"
     ]
    }
   ],
   "source": [
    "# Transformar los datos al espacio de 4 componentes\n",
    "X_reducido = modelo_pca.transform(ejemplo_num)\n",
    "\n",
    "# X_reducido ahora tiene solo 4 columnas (en lugar de las 7 originales)\n",
    "print(X_reducido)"
   ]
  },
  {
   "cell_type": "code",
   "execution_count": null,
   "metadata": {},
   "outputs": [],
   "source": []
  }
 ],
 "metadata": {
  "kernelspec": {
   "display_name": "Python 3",
   "language": "python",
   "name": "python3"
  },
  "language_info": {
   "codemirror_mode": {
    "name": "ipython",
    "version": 3
   },
   "file_extension": ".py",
   "mimetype": "text/x-python",
   "name": "python",
   "nbconvert_exporter": "python",
   "pygments_lexer": "ipython3",
   "version": "3.13.1"
  }
 },
 "nbformat": 4,
 "nbformat_minor": 2
}
